{
 "cells": [
  {
   "cell_type": "markdown",
   "id": "8778ba28-5d92-45a1-a4d8-6244204b9c8c",
   "metadata": {},
   "source": [
    "# (Data Science Tools and Ecosystem)"
   ]
  },
  {
   "cell_type": "markdown",
   "id": "ef24f9bd-3a43-4470-97dc-db2a95a210f3",
   "metadata": {},
   "source": [
    "(In this notebook, Data Science Tools and Ecosystem are summarized.)"
   ]
  },
  {
   "cell_type": "markdown",
   "id": "a7ed5223-1aea-46ae-b601-cff7fcf08e60",
   "metadata": {},
   "source": [
    "## (popular languages that Data Scientists use are)"
   ]
  },
  {
   "cell_type": "markdown",
   "id": "f1c05e2c-00c3-4f0b-ba2b-599c55ebe4db",
   "metadata": {},
   "source": [
    "1. Python\n",
    "2. R\n",
    "3. SQL\n",
    "4. Java\n",
    "5. Julia\n",
    "6. Scala\n",
    "7. C/C++\n",
    "8. JavaScript\n",
    "9. SAS"
   ]
  },
  {
   "cell_type": "markdown",
   "id": "dc67ea13-5866-442d-87f0-3c0fafb92b30",
   "metadata": {},
   "source": [
    "### (Some of the commonly used libraries used by Data Scientists include:)"
   ]
  },
  {
   "cell_type": "markdown",
   "id": "1a265065-b09d-4c4a-9757-6391b0011f4e",
   "metadata": {},
   "source": [
    "1. NumPy \n",
    "2. Pandas\n",
    "3. Matplotlib\n",
    "4. SciPy \n",
    "5. Plotly\n",
    "6. TensorFlow \n",
    "7. Keras\n"
   ]
  },
  {
   "cell_type": "markdown",
   "id": "da37a793-07e5-41e7-9297-424583ddaf5f",
   "metadata": {},
   "source": [
    "### (A markdown cell with a table of Data Science tools)"
   ]
  },
  {
   "cell_type": "markdown",
   "id": "47174289-f90b-4c15-aecf-1aaf7b39176c",
   "metadata": {},
   "source": [
    "|Data Science Tools|\n",
    "|-------------------------------------|\n",
    "|R Studio | \n",
    "|Apache Spark | \n",
    "|Tensor Flow|"
   ]
  },
  {
   "cell_type": "markdown",
   "id": "d3c1f028-91b2-4f1c-9ce7-09741f072394",
   "metadata": {},
   "source": [
    "### Below are a few examples of evaluating arithmetic expressions in Python"
   ]
  },
  {
   "cell_type": "markdown",
   "id": "8c7542d9-36f5-4c32-8a94-c5e8d2bfd8f6",
   "metadata": {},
   "source": [
    "This a simple arithmetic expression to mutiply then add integers"
   ]
  },
  {
   "cell_type": "code",
   "execution_count": 2,
   "id": "9e2cdb05-c61c-4a5b-ae69-e5814f3e88d0",
   "metadata": {},
   "outputs": [
    {
     "data": {
      "text/html": [
       "17"
      ],
      "text/latex": [
       "17"
      ],
      "text/markdown": [
       "17"
      ],
      "text/plain": [
       "[1] 17"
      ]
     },
     "metadata": {},
     "output_type": "display_data"
    }
   ],
   "source": [
    "# multiply and add integers\n",
    "(3*4)+5"
   ]
  },
  {
   "cell_type": "markdown",
   "id": "c863dded-c65a-437a-929b-218cec92a7cf",
   "metadata": {},
   "source": [
    "### convert minutes to hours"
   ]
  },
  {
   "cell_type": "code",
   "execution_count": 3,
   "id": "e33625c9-509d-4eb3-94a0-9dd194e86d49",
   "metadata": {},
   "outputs": [
    {
     "data": {
      "text/html": [
       "3.33333333333333"
      ],
      "text/latex": [
       "3.33333333333333"
      ],
      "text/markdown": [
       "3.33333333333333"
      ],
      "text/plain": [
       "[1] 3.333333"
      ]
     },
     "metadata": {},
     "output_type": "display_data"
    }
   ],
   "source": [
    "# convert minutes to hours\n",
    "200/60"
   ]
  },
  {
   "cell_type": "code",
   "execution_count": 9,
   "id": "1b6f95df-5919-4368-95c9-350117a9cffe",
   "metadata": {},
   "outputs": [
    {
     "name": "stdout",
     "output_type": "stream",
     "text": [
      "[1] 3.333333\n"
     ]
    }
   ],
   "source": [
    "a= 200\n",
    "b= 60\n",
    "c= a/b\n",
    "print(c)"
   ]
  },
  {
   "cell_type": "markdown",
   "id": "52371721-bbbe-4470-8b06-ac26f3a1421b",
   "metadata": {},
   "source": [
    "### A unorderd markdown cell to list Objectives"
   ]
  },
  {
   "cell_type": "markdown",
   "id": "dbbdf749-6676-4fa4-a385-afab035c9596",
   "metadata": {},
   "source": [
    "#### unordered list\n",
    "\n",
    "- Python\n",
    "- R\n",
    "- SQL\n",
    "- Java"
   ]
  },
  {
   "cell_type": "markdown",
   "id": "ee5aaa07-dc34-4e0c-b4a3-3a1ba433fc26",
   "metadata": {},
   "source": [
    "## Author \n",
    "Roberto Martinez "
   ]
  },
  {
   "cell_type": "code",
   "execution_count": null,
   "id": "95e007de-08c4-4429-ba23-5405affdbe02",
   "metadata": {},
   "outputs": [],
   "source": []
  }
 ],
 "metadata": {
  "kernelspec": {
   "display_name": "R",
   "language": "R",
   "name": "ir"
  },
  "language_info": {
   "codemirror_mode": "r",
   "file_extension": ".r",
   "mimetype": "text/x-r-source",
   "name": "R",
   "pygments_lexer": "r",
   "version": "4.4.2"
  }
 },
 "nbformat": 4,
 "nbformat_minor": 5
}
